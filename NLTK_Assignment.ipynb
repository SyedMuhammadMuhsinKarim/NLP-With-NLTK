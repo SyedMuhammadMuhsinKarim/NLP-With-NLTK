{
  "nbformat": 4,
  "nbformat_minor": 0,
  "metadata": {
    "colab": {
      "name": "NLTK Assignment.ipynb",
      "provenance": [],
      "authorship_tag": "ABX9TyNgVQU/H1vo994Jb+X7ezNE",
      "include_colab_link": true
    },
    "kernelspec": {
      "name": "python3",
      "display_name": "Python 3"
    }
  },
  "cells": [
    {
      "cell_type": "markdown",
      "metadata": {
        "id": "view-in-github",
        "colab_type": "text"
      },
      "source": [
        "<a href=\"https://colab.research.google.com/github/SyedMuhammadMuhsinKarim/NLP-With-NLTK/blob/main/NLTK_Assignment.ipynb\" target=\"_parent\"><img src=\"https://colab.research.google.com/assets/colab-badge.svg\" alt=\"Open In Colab\"/></a>"
      ]
    },
    {
      "cell_type": "markdown",
      "metadata": {
        "id": "RqDTLnKjIA7T"
      },
      "source": [
        "# **Assignment 04**\r\n"
      ]
    },
    {
      "cell_type": "code",
      "metadata": {
        "id": "xybxWfJGKng6"
      },
      "source": [
        "import nltk\r\n",
        "from nltk.tokenize import RegexpTokenizer\r\n",
        "import pandas as pd"
      ],
      "execution_count": null,
      "outputs": []
    },
    {
      "cell_type": "code",
      "metadata": {
        "id": "vmLpcVc_MfI5"
      },
      "source": [
        "tokenizer = RegexpTokenizer(r'\\w+')"
      ],
      "execution_count": null,
      "outputs": []
    },
    {
      "cell_type": "code",
      "metadata": {
        "colab": {
          "base_uri": "https://localhost:8080/"
        },
        "id": "KqwTCzrwLGZA",
        "outputId": "955e3996-871d-4047-aff1-2ce865426479"
      },
      "source": [
        "nltk.download('punkt')\r\n",
        "nltk.download('averaged_perceptron_tagger')\r\n",
        "nltk.download('brown')"
      ],
      "execution_count": null,
      "outputs": [
        {
          "output_type": "stream",
          "text": [
            "[nltk_data] Downloading package punkt to /root/nltk_data...\n",
            "[nltk_data]   Package punkt is already up-to-date!\n",
            "[nltk_data] Downloading package averaged_perceptron_tagger to\n",
            "[nltk_data]     /root/nltk_data...\n",
            "[nltk_data]   Package averaged_perceptron_tagger is already up-to-\n",
            "[nltk_data]       date!\n",
            "[nltk_data] Downloading package brown to /root/nltk_data...\n",
            "[nltk_data]   Package brown is already up-to-date!\n"
          ],
          "name": "stdout"
        },
        {
          "output_type": "execute_result",
          "data": {
            "text/plain": [
              "True"
            ]
          },
          "metadata": {
            "tags": []
          },
          "execution_count": 3
        }
      ]
    },
    {
      "cell_type": "markdown",
      "metadata": {
        "id": "IUZ87uqaNjG4"
      },
      "source": [
        "**Part** **01**"
      ]
    },
    {
      "cell_type": "code",
      "metadata": {
        "colab": {
          "base_uri": "https://localhost:8080/",
          "height": 195
        },
        "id": "1A2dW4y3K1LB",
        "outputId": "2f490152-787c-4b99-a343-cac09a0d5e25"
      },
      "source": [
        "pd.DataFrame(nltk.pos_tag(tokenizer.tokenize(\"my pet ate my homework\")), columns=[['Words', 'POS']])"
      ],
      "execution_count": null,
      "outputs": [
        {
          "output_type": "execute_result",
          "data": {
            "text/html": [
              "<div>\n",
              "<style scoped>\n",
              "    .dataframe tbody tr th:only-of-type {\n",
              "        vertical-align: middle;\n",
              "    }\n",
              "\n",
              "    .dataframe tbody tr th {\n",
              "        vertical-align: top;\n",
              "    }\n",
              "\n",
              "    .dataframe thead tr th {\n",
              "        text-align: left;\n",
              "    }\n",
              "</style>\n",
              "<table border=\"1\" class=\"dataframe\">\n",
              "  <thead>\n",
              "    <tr>\n",
              "      <th></th>\n",
              "      <th>Words</th>\n",
              "      <th>POS</th>\n",
              "    </tr>\n",
              "  </thead>\n",
              "  <tbody>\n",
              "    <tr>\n",
              "      <th>0</th>\n",
              "      <td>my</td>\n",
              "      <td>PRP$</td>\n",
              "    </tr>\n",
              "    <tr>\n",
              "      <th>1</th>\n",
              "      <td>pet</td>\n",
              "      <td>NN</td>\n",
              "    </tr>\n",
              "    <tr>\n",
              "      <th>2</th>\n",
              "      <td>ate</td>\n",
              "      <td>VB</td>\n",
              "    </tr>\n",
              "    <tr>\n",
              "      <th>3</th>\n",
              "      <td>my</td>\n",
              "      <td>PRP$</td>\n",
              "    </tr>\n",
              "    <tr>\n",
              "      <th>4</th>\n",
              "      <td>homework</td>\n",
              "      <td>NN</td>\n",
              "    </tr>\n",
              "  </tbody>\n",
              "</table>\n",
              "</div>"
            ],
            "text/plain": [
              "      Words   POS\n",
              "0        my  PRP$\n",
              "1       pet    NN\n",
              "2       ate    VB\n",
              "3        my  PRP$\n",
              "4  homework    NN"
            ]
          },
          "metadata": {
            "tags": []
          },
          "execution_count": 4
        }
      ]
    },
    {
      "cell_type": "code",
      "metadata": {
        "colab": {
          "base_uri": "https://localhost:8080/",
          "height": 166
        },
        "id": "-PrhpwZALSUJ",
        "outputId": "5f82e9b7-74dd-44d5-f404-51bb7c6af36e"
      },
      "source": [
        "pd.DataFrame(nltk.pos_tag(tokenizer.tokenize(\"fruit flies like bananas.\")), columns=[['Words', 'POS']])"
      ],
      "execution_count": null,
      "outputs": [
        {
          "output_type": "execute_result",
          "data": {
            "text/html": [
              "<div>\n",
              "<style scoped>\n",
              "    .dataframe tbody tr th:only-of-type {\n",
              "        vertical-align: middle;\n",
              "    }\n",
              "\n",
              "    .dataframe tbody tr th {\n",
              "        vertical-align: top;\n",
              "    }\n",
              "\n",
              "    .dataframe thead tr th {\n",
              "        text-align: left;\n",
              "    }\n",
              "</style>\n",
              "<table border=\"1\" class=\"dataframe\">\n",
              "  <thead>\n",
              "    <tr>\n",
              "      <th></th>\n",
              "      <th>Words</th>\n",
              "      <th>POS</th>\n",
              "    </tr>\n",
              "  </thead>\n",
              "  <tbody>\n",
              "    <tr>\n",
              "      <th>0</th>\n",
              "      <td>fruit</td>\n",
              "      <td>NN</td>\n",
              "    </tr>\n",
              "    <tr>\n",
              "      <th>1</th>\n",
              "      <td>flies</td>\n",
              "      <td>NNS</td>\n",
              "    </tr>\n",
              "    <tr>\n",
              "      <th>2</th>\n",
              "      <td>like</td>\n",
              "      <td>IN</td>\n",
              "    </tr>\n",
              "    <tr>\n",
              "      <th>3</th>\n",
              "      <td>bananas</td>\n",
              "      <td>NNS</td>\n",
              "    </tr>\n",
              "  </tbody>\n",
              "</table>\n",
              "</div>"
            ],
            "text/plain": [
              "     Words  POS\n",
              "0    fruit   NN\n",
              "1    flies  NNS\n",
              "2     like   IN\n",
              "3  bananas  NNS"
            ]
          },
          "metadata": {
            "tags": []
          },
          "execution_count": 5
        }
      ]
    },
    {
      "cell_type": "code",
      "metadata": {
        "colab": {
          "base_uri": "https://localhost:8080/",
          "height": 639
        },
        "id": "q2kgOA0LLg1g",
        "outputId": "960a7c8f-3be1-4d0c-f534-8faeb1c272ea"
      },
      "source": [
        "pd.DataFrame(nltk.pos_tag(tokenizer.tokenize(\"two roads diverged in a wood, I took the one less traveled by, and that has made all the difference.\")), columns=[['Words', 'POS']])"
      ],
      "execution_count": null,
      "outputs": [
        {
          "output_type": "execute_result",
          "data": {
            "text/html": [
              "<div>\n",
              "<style scoped>\n",
              "    .dataframe tbody tr th:only-of-type {\n",
              "        vertical-align: middle;\n",
              "    }\n",
              "\n",
              "    .dataframe tbody tr th {\n",
              "        vertical-align: top;\n",
              "    }\n",
              "\n",
              "    .dataframe thead tr th {\n",
              "        text-align: left;\n",
              "    }\n",
              "</style>\n",
              "<table border=\"1\" class=\"dataframe\">\n",
              "  <thead>\n",
              "    <tr>\n",
              "      <th></th>\n",
              "      <th>Words</th>\n",
              "      <th>POS</th>\n",
              "    </tr>\n",
              "  </thead>\n",
              "  <tbody>\n",
              "    <tr>\n",
              "      <th>0</th>\n",
              "      <td>two</td>\n",
              "      <td>CD</td>\n",
              "    </tr>\n",
              "    <tr>\n",
              "      <th>1</th>\n",
              "      <td>roads</td>\n",
              "      <td>NNS</td>\n",
              "    </tr>\n",
              "    <tr>\n",
              "      <th>2</th>\n",
              "      <td>diverged</td>\n",
              "      <td>VBN</td>\n",
              "    </tr>\n",
              "    <tr>\n",
              "      <th>3</th>\n",
              "      <td>in</td>\n",
              "      <td>IN</td>\n",
              "    </tr>\n",
              "    <tr>\n",
              "      <th>4</th>\n",
              "      <td>a</td>\n",
              "      <td>DT</td>\n",
              "    </tr>\n",
              "    <tr>\n",
              "      <th>5</th>\n",
              "      <td>wood</td>\n",
              "      <td>NN</td>\n",
              "    </tr>\n",
              "    <tr>\n",
              "      <th>6</th>\n",
              "      <td>I</td>\n",
              "      <td>PRP</td>\n",
              "    </tr>\n",
              "    <tr>\n",
              "      <th>7</th>\n",
              "      <td>took</td>\n",
              "      <td>VBD</td>\n",
              "    </tr>\n",
              "    <tr>\n",
              "      <th>8</th>\n",
              "      <td>the</td>\n",
              "      <td>DT</td>\n",
              "    </tr>\n",
              "    <tr>\n",
              "      <th>9</th>\n",
              "      <td>one</td>\n",
              "      <td>NN</td>\n",
              "    </tr>\n",
              "    <tr>\n",
              "      <th>10</th>\n",
              "      <td>less</td>\n",
              "      <td>JJR</td>\n",
              "    </tr>\n",
              "    <tr>\n",
              "      <th>11</th>\n",
              "      <td>traveled</td>\n",
              "      <td>VBN</td>\n",
              "    </tr>\n",
              "    <tr>\n",
              "      <th>12</th>\n",
              "      <td>by</td>\n",
              "      <td>IN</td>\n",
              "    </tr>\n",
              "    <tr>\n",
              "      <th>13</th>\n",
              "      <td>and</td>\n",
              "      <td>CC</td>\n",
              "    </tr>\n",
              "    <tr>\n",
              "      <th>14</th>\n",
              "      <td>that</td>\n",
              "      <td>DT</td>\n",
              "    </tr>\n",
              "    <tr>\n",
              "      <th>15</th>\n",
              "      <td>has</td>\n",
              "      <td>VBZ</td>\n",
              "    </tr>\n",
              "    <tr>\n",
              "      <th>16</th>\n",
              "      <td>made</td>\n",
              "      <td>VBN</td>\n",
              "    </tr>\n",
              "    <tr>\n",
              "      <th>17</th>\n",
              "      <td>all</td>\n",
              "      <td>PDT</td>\n",
              "    </tr>\n",
              "    <tr>\n",
              "      <th>18</th>\n",
              "      <td>the</td>\n",
              "      <td>DT</td>\n",
              "    </tr>\n",
              "    <tr>\n",
              "      <th>19</th>\n",
              "      <td>difference</td>\n",
              "      <td>NN</td>\n",
              "    </tr>\n",
              "  </tbody>\n",
              "</table>\n",
              "</div>"
            ],
            "text/plain": [
              "         Words  POS\n",
              "0          two   CD\n",
              "1        roads  NNS\n",
              "2     diverged  VBN\n",
              "3           in   IN\n",
              "4            a   DT\n",
              "5         wood   NN\n",
              "6            I  PRP\n",
              "7         took  VBD\n",
              "8          the   DT\n",
              "9          one   NN\n",
              "10        less  JJR\n",
              "11    traveled  VBN\n",
              "12          by   IN\n",
              "13         and   CC\n",
              "14        that   DT\n",
              "15         has  VBZ\n",
              "16        made  VBN\n",
              "17         all  PDT\n",
              "18         the   DT\n",
              "19  difference   NN"
            ]
          },
          "metadata": {
            "tags": []
          },
          "execution_count": 6
        }
      ]
    },
    {
      "cell_type": "markdown",
      "metadata": {
        "id": "WE5m_wZ5Nn9v"
      },
      "source": [
        "**Part 02**"
      ]
    },
    {
      "cell_type": "code",
      "metadata": {
        "colab": {
          "base_uri": "https://localhost:8080/",
          "height": 343
        },
        "id": "XYRCnRAfNsIQ",
        "outputId": "4ec7abc9-6dcc-4bda-b45c-51a3f9384532"
      },
      "source": [
        "pd.DataFrame(nltk.pos_tag(tokenizer.tokenize(\"They refuse to permit us to obtain the refuse permit\")), columns=[['Words', 'POS']])"
      ],
      "execution_count": null,
      "outputs": [
        {
          "output_type": "execute_result",
          "data": {
            "text/html": [
              "<div>\n",
              "<style scoped>\n",
              "    .dataframe tbody tr th:only-of-type {\n",
              "        vertical-align: middle;\n",
              "    }\n",
              "\n",
              "    .dataframe tbody tr th {\n",
              "        vertical-align: top;\n",
              "    }\n",
              "\n",
              "    .dataframe thead tr th {\n",
              "        text-align: left;\n",
              "    }\n",
              "</style>\n",
              "<table border=\"1\" class=\"dataframe\">\n",
              "  <thead>\n",
              "    <tr>\n",
              "      <th></th>\n",
              "      <th>Words</th>\n",
              "      <th>POS</th>\n",
              "    </tr>\n",
              "  </thead>\n",
              "  <tbody>\n",
              "    <tr>\n",
              "      <th>0</th>\n",
              "      <td>They</td>\n",
              "      <td>PRP</td>\n",
              "    </tr>\n",
              "    <tr>\n",
              "      <th>1</th>\n",
              "      <td>refuse</td>\n",
              "      <td>VBP</td>\n",
              "    </tr>\n",
              "    <tr>\n",
              "      <th>2</th>\n",
              "      <td>to</td>\n",
              "      <td>TO</td>\n",
              "    </tr>\n",
              "    <tr>\n",
              "      <th>3</th>\n",
              "      <td>permit</td>\n",
              "      <td>VB</td>\n",
              "    </tr>\n",
              "    <tr>\n",
              "      <th>4</th>\n",
              "      <td>us</td>\n",
              "      <td>PRP</td>\n",
              "    </tr>\n",
              "    <tr>\n",
              "      <th>5</th>\n",
              "      <td>to</td>\n",
              "      <td>TO</td>\n",
              "    </tr>\n",
              "    <tr>\n",
              "      <th>6</th>\n",
              "      <td>obtain</td>\n",
              "      <td>VB</td>\n",
              "    </tr>\n",
              "    <tr>\n",
              "      <th>7</th>\n",
              "      <td>the</td>\n",
              "      <td>DT</td>\n",
              "    </tr>\n",
              "    <tr>\n",
              "      <th>8</th>\n",
              "      <td>refuse</td>\n",
              "      <td>NN</td>\n",
              "    </tr>\n",
              "    <tr>\n",
              "      <th>9</th>\n",
              "      <td>permit</td>\n",
              "      <td>NN</td>\n",
              "    </tr>\n",
              "  </tbody>\n",
              "</table>\n",
              "</div>"
            ],
            "text/plain": [
              "    Words  POS\n",
              "0    They  PRP\n",
              "1  refuse  VBP\n",
              "2      to   TO\n",
              "3  permit   VB\n",
              "4      us  PRP\n",
              "5      to   TO\n",
              "6  obtain   VB\n",
              "7     the   DT\n",
              "8  refuse   NN\n",
              "9  permit   NN"
            ]
          },
          "metadata": {
            "tags": []
          },
          "execution_count": 7
        }
      ]
    },
    {
      "cell_type": "markdown",
      "metadata": {
        "id": "SWXiHLfXR3fg"
      },
      "source": [
        "**Part 03**"
      ]
    },
    {
      "cell_type": "code",
      "metadata": {
        "id": "bxborYL6R2iH"
      },
      "source": [
        "text = nltk.Text(word.lower() for word in nltk.corpus.brown.words())"
      ],
      "execution_count": null,
      "outputs": []
    },
    {
      "cell_type": "code",
      "metadata": {
        "colab": {
          "base_uri": "https://localhost:8080/"
        },
        "id": "IftjgTEVlSM8",
        "outputId": "696b1728-d930-4373-a398-de60951c1be3"
      },
      "source": [
        "text.similar('cat')"
      ],
      "execution_count": null,
      "outputs": [
        {
          "output_type": "stream",
          "text": [
            "boy man time day way job will year road word people captain community\n",
            "thing sense bottle and other problem failure\n"
          ],
          "name": "stdout"
        }
      ]
    },
    {
      "cell_type": "code",
      "metadata": {
        "colab": {
          "base_uri": "https://localhost:8080/"
        },
        "id": "IWmC7xTOlS_8",
        "outputId": "d978cbf5-a671-4817-db64-84daf56a4ad6"
      },
      "source": [
        "text.similar('small')"
      ],
      "execution_count": null,
      "outputs": [
        {
          "output_type": "stream",
          "text": [
            "good the large great new little long big strong young first old simple\n",
            "a general other much whole low in\n"
          ],
          "name": "stdout"
        }
      ]
    },
    {
      "cell_type": "markdown",
      "metadata": {
        "id": "O1SIxsAClb6R"
      },
      "source": [
        "**Part 04**"
      ]
    },
    {
      "cell_type": "code",
      "metadata": {
        "colab": {
          "base_uri": "https://localhost:8080/"
        },
        "id": "3A3U4FXpVWlE",
        "outputId": "a99cf7a1-1a1e-4f1e-d9b1-16adf4c6d11f"
      },
      "source": [
        "chunker = nltk.RegexpParser(r\"\"\" Chunk0: {((<NN|CD.?|RB>)<CD.?|VBD.?|VBP.?|VBN.?|NN.?|RB.?|JJ>*)<NN|CD.?>} \"\"\") \r\n",
        "result = chunker.parse(nltk.pos_tag(tokenizer.tokenize(\"a clever fox was jumping over the wall\")))\r\n",
        "print(result)"
      ],
      "execution_count": null,
      "outputs": [
        {
          "output_type": "stream",
          "text": [
            "(S\n",
            "  a/DT\n",
            "  (Chunk0 clever/NN fox/NN)\n",
            "  was/VBD\n",
            "  jumping/VBG\n",
            "  over/IN\n",
            "  the/DT\n",
            "  wall/NN)\n"
          ],
          "name": "stdout"
        }
      ]
    },
    {
      "cell_type": "markdown",
      "metadata": {
        "id": "wIQ6wjDWHYhs"
      },
      "source": [
        "# **Assignment 05**"
      ]
    },
    {
      "cell_type": "code",
      "metadata": {
        "id": "YwZAXDPqHf_H"
      },
      "source": [
        "import nltk\r\n",
        "import pandas as pd\r\n",
        "from nltk.corpus import wordnet as wn"
      ],
      "execution_count": null,
      "outputs": []
    },
    {
      "cell_type": "code",
      "metadata": {
        "id": "BC2A5kPPHngr"
      },
      "source": [
        "nltk.download('wordnet')"
      ],
      "execution_count": null,
      "outputs": []
    },
    {
      "cell_type": "code",
      "metadata": {
        "colab": {
          "base_uri": "https://localhost:8080/"
        },
        "id": "yKqyPUOCIVZy",
        "outputId": "aa3e6f3d-fe2d-489e-f49a-58ee553a5c76"
      },
      "source": [
        "ss_cat = wn.synsets('cat')"
      ],
      "execution_count": null,
      "outputs": [
        {
          "output_type": "execute_result",
          "data": {
            "text/plain": [
              "[Synset('cat.n.01'),\n",
              " Synset('guy.n.01'),\n",
              " Synset('cat.n.03'),\n",
              " Synset('kat.n.01'),\n",
              " Synset('cat-o'-nine-tails.n.01'),\n",
              " Synset('caterpillar.n.02'),\n",
              " Synset('big_cat.n.01'),\n",
              " Synset('computerized_tomography.n.01'),\n",
              " Synset('cat.v.01'),\n",
              " Synset('vomit.v.01')]"
            ]
          },
          "metadata": {
            "tags": []
          },
          "execution_count": 7
        }
      ]
    },
    {
      "cell_type": "code",
      "metadata": {
        "colab": {
          "base_uri": "https://localhost:8080/"
        },
        "id": "zjXEXKIpIvNX",
        "outputId": "39488559-d8b1-482e-ba33-520bebfbadab"
      },
      "source": [
        "ss_cat_def = [syn.definition() for syn in ss_cat]\r\n",
        "ss_cat_def"
      ],
      "execution_count": null,
      "outputs": [
        {
          "output_type": "execute_result",
          "data": {
            "text/plain": [
              "['feline mammal usually having thick soft fur and no ability to roar: domestic cats; wildcats',\n",
              " 'an informal term for a youth or man',\n",
              " 'a spiteful woman gossip',\n",
              " 'the leaves of the shrub Catha edulis which are chewed like tobacco or used to make tea; has the effect of a euphoric stimulant',\n",
              " 'a whip with nine knotted cords',\n",
              " 'a large tracked vehicle that is propelled by two endless metal belts; frequently used for moving earth in construction and farm work',\n",
              " 'any of several large cats typically able to roar and living in the wild',\n",
              " 'a method of examining body organs by scanning them with X rays and using a computer to construct a series of cross-sectional scans along a single axis',\n",
              " \"beat with a cat-o'-nine-tails\",\n",
              " 'eject the contents of the stomach through the mouth']"
            ]
          },
          "metadata": {
            "tags": []
          },
          "execution_count": 10
        }
      ]
    },
    {
      "cell_type": "code",
      "metadata": {
        "colab": {
          "base_uri": "https://localhost:8080/"
        },
        "id": "-fPO5xE3J6Zv",
        "outputId": "ee21fb4b-bdca-42f3-a628-c5cd6b2e97d1"
      },
      "source": [
        "# [lem for val in wn.synsets('cat') for lem in val.lemmas()] # return list of lemma\r\n",
        "[val for val in wn.synsets('cat')]"
      ],
      "execution_count": null,
      "outputs": [
        {
          "output_type": "execute_result",
          "data": {
            "text/plain": [
              "[Synset('cat.n.01'),\n",
              " Synset('guy.n.01'),\n",
              " Synset('cat.n.03'),\n",
              " Synset('kat.n.01'),\n",
              " Synset('cat-o'-nine-tails.n.01'),\n",
              " Synset('caterpillar.n.02'),\n",
              " Synset('big_cat.n.01'),\n",
              " Synset('computerized_tomography.n.01'),\n",
              " Synset('cat.v.01'),\n",
              " Synset('vomit.v.01')]"
            ]
          },
          "metadata": {
            "tags": []
          },
          "execution_count": 12
        }
      ]
    },
    {
      "cell_type": "code",
      "metadata": {
        "colab": {
          "base_uri": "https://localhost:8080/"
        },
        "id": "CeFQhIYCLHrd",
        "outputId": "6530b818-01b2-4d2e-bc3a-403cf3276b53"
      },
      "source": [
        "list_hyp = [value.hypernyms() for value in ss_cat]\r\n",
        "list_hyp"
      ],
      "execution_count": null,
      "outputs": [
        {
          "output_type": "execute_result",
          "data": {
            "text/plain": [
              "[[Synset('feline.n.01')],\n",
              " [Synset('man.n.01')],\n",
              " [Synset('gossip.n.03'), Synset('woman.n.01')],\n",
              " [Synset('stimulant.n.02')],\n",
              " [Synset('whip.n.01')],\n",
              " [Synset('tracked_vehicle.n.01')],\n",
              " [Synset('feline.n.01')],\n",
              " [Synset('x-raying.n.01')],\n",
              " [Synset('flog.v.01')],\n",
              " [Synset('excrete.v.01')]]"
            ]
          },
          "metadata": {
            "tags": []
          },
          "execution_count": 19
        }
      ]
    },
    {
      "cell_type": "markdown",
      "metadata": {
        "id": "3Y3fhFsnbRBt"
      },
      "source": [
        "**todo**"
      ]
    },
    {
      "cell_type": "code",
      "metadata": {
        "colab": {
          "base_uri": "https://localhost:8080/"
        },
        "id": "JeivLIHdZDQe",
        "outputId": "fe4e476b-39a4-4510-bd9d-9be85f381376"
      },
      "source": [
        "ss_wagon = wn.synsets('wagon')\r\n",
        "len(ss_wagon)"
      ],
      "execution_count": null,
      "outputs": [
        {
          "output_type": "execute_result",
          "data": {
            "text/plain": [
              "5"
            ]
          },
          "metadata": {
            "tags": []
          },
          "execution_count": 22
        }
      ]
    },
    {
      "cell_type": "code",
      "metadata": {
        "colab": {
          "base_uri": "https://localhost:8080/"
        },
        "id": "d1BUnaZYZxrg",
        "outputId": "54a44983-3812-4ac4-deb8-a5bdbf134aa8"
      },
      "source": [
        "ss_wagon_hyper = [value.hypernyms() for value in ss_wagon]\r\n",
        "[item for items in ss_wagon_hyper for item in items]"
      ],
      "execution_count": null,
      "outputs": [
        {
          "output_type": "execute_result",
          "data": {
            "text/plain": [
              "[Synset('wheeled_vehicle.n.01'),\n",
              " Synset('van.n.05'),\n",
              " Synset('wheeled_vehicle.n.01'),\n",
              " Synset('car.n.01')]"
            ]
          },
          "metadata": {
            "tags": []
          },
          "execution_count": 26
        }
      ]
    },
    {
      "cell_type": "code",
      "metadata": {
        "colab": {
          "base_uri": "https://localhost:8080/"
        },
        "id": "PiwEdTUEaA5r",
        "outputId": "d2569f1f-9431-4ec6-f036-69595f898452"
      },
      "source": [
        "ss_wagon_hypo = [value.hyponyms() for value in ss_wagon]\r\n",
        "[item for items in ss_wagon_hypo for item in items]"
      ],
      "execution_count": null,
      "outputs": [
        {
          "output_type": "execute_result",
          "data": {
            "text/plain": [
              "[Synset('bandwagon.n.02'),\n",
              " Synset('cart.n.01'),\n",
              " Synset('chuck_wagon.n.01'),\n",
              " Synset('covered_wagon.n.01'),\n",
              " Synset('ice_wagon.n.01'),\n",
              " Synset('lorry.n.01'),\n",
              " Synset('milk_wagon.n.01'),\n",
              " Synset('tramcar.n.01'),\n",
              " Synset('wain.n.03'),\n",
              " Synset('water_wagon.n.01'),\n",
              " Synset('shooting_brake.n.01')]"
            ]
          },
          "metadata": {
            "tags": []
          },
          "execution_count": 27
        }
      ]
    },
    {
      "cell_type": "code",
      "metadata": {
        "id": "wgxYD8G2gz0k"
      },
      "source": [
        "def polysemy(word):\r\n",
        "  return len(wn.synsets(word))"
      ],
      "execution_count": null,
      "outputs": []
    },
    {
      "cell_type": "code",
      "metadata": {
        "colab": {
          "base_uri": "https://localhost:8080/"
        },
        "id": "Iie_Vef9jdxk",
        "outputId": "8de44006-510c-4f25-eed8-5fac8e5704f9"
      },
      "source": [
        "polysemy(\"cat\")"
      ],
      "execution_count": null,
      "outputs": [
        {
          "output_type": "execute_result",
          "data": {
            "text/plain": [
              "10"
            ]
          },
          "metadata": {
            "tags": []
          },
          "execution_count": 29
        }
      ]
    },
    {
      "cell_type": "code",
      "metadata": {
        "colab": {
          "base_uri": "https://localhost:8080/"
        },
        "id": "Tt9--apUjhlK",
        "outputId": "1fac93c2-7503-47ec-e273-91fb674ad12b"
      },
      "source": [
        "polysemy(\"dog\")"
      ],
      "execution_count": null,
      "outputs": [
        {
          "output_type": "execute_result",
          "data": {
            "text/plain": [
              "8"
            ]
          },
          "metadata": {
            "tags": []
          },
          "execution_count": 30
        }
      ]
    },
    {
      "cell_type": "code",
      "metadata": {
        "id": "8cet4MZEjzLq"
      },
      "source": [
        "def noun_polysemy(word):\r\n",
        "  return len(wn.synsets(word, pos='n'))"
      ],
      "execution_count": null,
      "outputs": []
    },
    {
      "cell_type": "code",
      "metadata": {
        "id": "j1et_xlakumN",
        "colab": {
          "base_uri": "https://localhost:8080/"
        },
        "outputId": "d1d24b37-7ff6-4b1c-a890-e88550639497"
      },
      "source": [
        "polysemy(\"wagon\")"
      ],
      "execution_count": null,
      "outputs": [
        {
          "output_type": "execute_result",
          "data": {
            "text/plain": [
              "5"
            ]
          },
          "metadata": {
            "tags": []
          },
          "execution_count": 33
        }
      ]
    },
    {
      "cell_type": "markdown",
      "metadata": {
        "id": "Jh-A2YR367gg"
      },
      "source": [
        "#**TF**-**IDF**"
      ]
    },
    {
      "cell_type": "code",
      "metadata": {
        "id": "lojAuB9d7DRS"
      },
      "source": [
        "texts  = [\"It is going to rain today\", \"today i am not going outside\", \"I am going to watch the season premiere\"]"
      ],
      "execution_count": null,
      "outputs": []
    },
    {
      "cell_type": "code",
      "metadata": {
        "colab": {
          "base_uri": "https://localhost:8080/"
        },
        "id": "qrIzOYXL7wOJ",
        "outputId": "b5c3b82f-f1f4-4f59-e265-924885517200"
      },
      "source": [
        "import  pandas as pd\n",
        "\n",
        "series_token = pd.Series(texts)\n",
        "series_token.str.split(expand=True).stack().value_counts() # word frequencies"
      ],
      "execution_count": null,
      "outputs": [
        {
          "output_type": "execute_result",
          "data": {
            "text/plain": [
              "going       3\n",
              "am          2\n",
              "to          2\n",
              "today       2\n",
              "premiere    1\n",
              "is          1\n",
              "watch       1\n",
              "season      1\n",
              "i           1\n",
              "the         1\n",
              "It          1\n",
              "not         1\n",
              "outside     1\n",
              "rain        1\n",
              "I           1\n",
              "dtype: int64"
            ]
          },
          "metadata": {
            "tags": []
          },
          "execution_count": 2
        }
      ]
    },
    {
      "cell_type": "code",
      "metadata": {
        "colab": {
          "base_uri": "https://localhost:8080/"
        },
        "id": "So3Kd2BVP37h",
        "outputId": "ecbc9ced-f564-46ed-cd34-45f92e3b8e77"
      },
      "source": [
        "doc = [series_token[i].split() for i in range(len(texts))]\r\n",
        " \r\n",
        "from itertools import groupby\r\n",
        "[len(list(group)) for k in doc for key, group in groupby(k)]"
      ],
      "execution_count": null,
      "outputs": [
        {
          "output_type": "execute_result",
          "data": {
            "text/plain": [
              "[1, 1, 1, 1, 1, 1, 1, 1, 1, 1, 1, 1, 1, 1, 1, 1, 1, 1, 1, 1]"
            ]
          },
          "metadata": {
            "tags": []
          },
          "execution_count": 4
        }
      ]
    }
  ]
}